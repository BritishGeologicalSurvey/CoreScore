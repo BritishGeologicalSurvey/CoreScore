{
 "cells": [
  {
   "cell_type": "code",
   "execution_count": 1,
   "metadata": {},
   "outputs": [],
   "source": [
    "from corescore.masks import CoreImageProcessor, LABELS\n",
    "from corescore.metrics import Metrics\n",
    "from skimage.io import imshow, imread\n",
    "from skimage.measure import label, regionprops"
   ]
  },
  {
   "cell_type": "code",
   "execution_count": 2,
   "metadata": {},
   "outputs": [],
   "source": [
    "fix_dir = './tests/fixtures/images'\n",
    "labels = './tests/fixtures/labeltool.json'\n"
   ]
  },
  {
   "cell_type": "markdown",
   "metadata": {},
   "source": [
    "This interface I would change, so rather than always processing a directory of training images, writing a set of masks and returning the filenames, we can do it on a per-image basis. But is cosmetic."
   ]
  },
  {
   "cell_type": "code",
   "execution_count": 3,
   "metadata": {},
   "outputs": [],
   "source": [
    "coreproc = CoreImageProcessor(fix_dir, labels=labels)\n",
    "sample = coreproc.core_types[0]"
   ]
  },
  {
   "cell_type": "code",
   "execution_count": 4,
   "metadata": {},
   "outputs": [
    {
     "name": "stderr",
     "output_type": "stream",
     "text": [
      "INFO:root:/home/jo/CoreScore/tests/fixtures/images/train_masks/S00101254.png\n",
      "/home/jo/CoreScore/corescore/masks.py:197: UserWarning: /home/jo/CoreScore/tests/fixtures/images/train_masks/S00101254.png is a low contrast image\n",
      "  imsave(fname, mask)\n",
      "/home/jo/miniconda3/lib/python3.7/site-packages/skimage/io/_plugins/matplotlib_plugin.py:150: UserWarning: Low image data range; displaying image with stretched contrast.\n",
      "  lo, hi, cmap = _get_display_range(image)\n"
     ]
    },
    {
     "data": {
      "text/plain": [
       "<matplotlib.image.AxesImage at 0x7faa1dfe91d0>"
      ]
     },
     "execution_count": 4,
     "metadata": {},
     "output_type": "execute_result"
    },
    {
     "data": {
      "image/png": "[encoded data removed]",
      "text/plain": [
       "<Figure size 432x288 with 2 Axes>"
      ]
     },
     "metadata": {
      "needs_background": "light"
     },
     "output_type": "display_data"
    }
   ],
   "source": [
    "mask_file = coreproc.processImage(sample)\n",
    "imshow(mask_file)"
   ]
  },
  {
   "cell_type": "markdown",
   "metadata": {},
   "source": [
    "Show the grayscale colour indexes assigned to each labelled area in the mask"
   ]
  },
  {
   "cell_type": "code",
   "execution_count": 5,
   "metadata": {},
   "outputs": [
    {
     "data": {
      "text/plain": [
       "{0, 1, 2, 6}"
      ]
     },
     "execution_count": 5,
     "metadata": {},
     "output_type": "execute_result"
    }
   ],
   "source": [
    "mask = imread(mask_file)\n",
    "set(mask.flatten())"
   ]
  },
  {
   "cell_type": "markdown",
   "metadata": {},
   "source": [
    "Compare with the list of labels from the LabelTool application"
   ]
  },
  {
   "cell_type": "code",
   "execution_count": 6,
   "metadata": {},
   "outputs": [
    {
     "data": {
      "text/plain": [
       "['Void',\n",
       " 'Rock_Fragment',\n",
       " 'Rock_Fragment_2',\n",
       " 'Paper',\n",
       " 'Core_Plug',\n",
       " 'Text',\n",
       " 'Box']"
      ]
     },
     "execution_count": 6,
     "metadata": {},
     "output_type": "execute_result"
    }
   ],
   "source": [
    "LABELS"
   ]
  },
  {
   "cell_type": "markdown",
   "metadata": {},
   "source": [
    "Set all non-rock values to 0 (and do this when calculating the metrics; but we might want this on a per-box basis?"
   ]
  },
  {
   "cell_type": "code",
   "execution_count": 7,
   "metadata": {},
   "outputs": [
    {
     "data": {
      "text/plain": [
       "{0, 1, 2}"
      ]
     },
     "execution_count": 7,
     "metadata": {},
     "output_type": "execute_result"
    }
   ],
   "source": [
    "mask[mask > LABELS.index('Rock_Fragment_2')] = 0\n",
    "set(mask.flatten())"
   ]
  },
  {
   "cell_type": "markdown",
   "metadata": {},
   "source": [
    "Generate a set of metrics for geometrical properties of the fragments (With code mostly borrowed from the Building Stones project)"
   ]
  },
  {
   "cell_type": "code",
   "execution_count": 8,
   "metadata": {},
   "outputs": [
    {
     "data": {
      "text/plain": [
       "{'relative_area': 0.13958,\n",
       " 'fragment_perimeter': 28262.35,\n",
       " 'average_perimeter': 3532.79,\n",
       " 'total_fragments': 8,\n",
       " 'absolute_area': 4717631,\n",
       " 'perimeter_complexity': 0.00599}"
      ]
     },
     "execution_count": 8,
     "metadata": {},
     "output_type": "execute_result"
    }
   ],
   "source": [
    "metrics = Metrics(mask)\n",
    "metrics.parameters()"
   ]
  }
 ],
 "metadata": {
  "kernelspec": {
   "display_name": "Python 3",
   "language": "python",
   "name": "python3"
  },
  "language_info": {
   "codemirror_mode": {
    "name": "ipython",
    "version": 3
   },
   "file_extension": ".py",
   "mimetype": "text/x-python",
   "name": "python",
   "nbconvert_exporter": "python",
   "pygments_lexer": "ipython3",
   "version": "3.7.6"
  }
 },
 "nbformat": 4,
 "nbformat_minor": 4
}
